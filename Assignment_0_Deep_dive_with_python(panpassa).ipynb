{
  "nbformat": 4,
  "nbformat_minor": 0,
  "metadata": {
    "colab": {
      "provenance": []
    },
    "kernelspec": {
      "name": "python3",
      "display_name": "Python 3"
    },
    "language_info": {
      "name": "python"
    }
  },
  "cells": [
    {
      "cell_type": "markdown",
      "source": [
        "# **Panpassa Pakdesee**\n",
        "# 6304052610225"
      ],
      "metadata": {
        "id": "zgqkzv7TUjw1"
      }
    },
    {
      "cell_type": "markdown",
      "source": [
        "**Classwork 0**\n",
        "\n",
        "1. Consider a sequence of n Bernoulli trials with success probabilty p per trial. A string of consecutive successes is known as a success run. Write a function that returns the counts for runs of length k for each k observed in a dictionary.\n",
        "\n",
        "Expected Result:\\\n",
        "count_runs([0, 1, 0, 1, 1, 0, 0, 0, 0, 1],)\\\n",
        "Counter({1: 2, 2: 1})\n",
        "\n",
        "or\n",
        "\n",
        "count_runs(np.random.randint(0,2,1000000))\n",
        "Counter({1: 124950,\\\n",
        "2: 62561,\\\n",
        "3: 31402,\\\n",
        "4: 15482,\\\n",
        "5: 7865,\\\n",
        "6: 3856,\\\n",
        "7: 1968,\\\n",
        "8: 971,\\\n",
        "9: 495,\\\n",
        "10: 233,\\\n",
        "11: 140,\\\n",
        "12: 71,\\\n",
        "13: 32,\\\n",
        "14: 13,\\\n",
        "15: 9,\\\n",
        "16: 3})\n",
        "\n",
        "\n",
        "\n"
      ],
      "metadata": {
        "id": "aIJTtAz0Yne8"
      }
    },
    {
      "cell_type": "code",
      "source": [
        "import numpy as np\n",
        "from collections import Counter\n",
        "\n",
        "def count_runs(sequence):\n",
        "    run_counts = Counter()  # เตรียม Counter เพื่อเก็บจำนวนครั้งของแต่ละความยาวของ success run\n",
        "\n",
        "    current_run_length = 0  # จำนวนติดกันของ successes ในขณะปัจจุบัน\n",
        "\n",
        "    for outcome in sequence:\n",
        "        if outcome == 1:  # พบ success\n",
        "            current_run_length += 1\n",
        "\n",
        "        else:\n",
        "            if current_run_length > 0:\n",
        "                run_counts[current_run_length] += 1\n",
        "                current_run_length = 0\n",
        "\n",
        "    # ตรวจสอบว่าตำแหน่งสุดท้ายของ sequence เป็น success run หรือไม่\n",
        "    if current_run_length > 0:\n",
        "        run_counts[current_run_length] += 1\n",
        "\n",
        "    return run_counts\n",
        "\n",
        "sequence = np.random.randint(0, 2, 1000000)\n",
        "result = count_runs(sequence)\n",
        "\n",
        "print(result)\n"
      ],
      "metadata": {
        "colab": {
          "base_uri": "https://localhost:8080/"
        },
        "id": "qIosZfrZZ3yS",
        "outputId": "74a8f060-7e5c-4efd-d339-9f410f1a4eba"
      },
      "execution_count": 1,
      "outputs": [
        {
          "output_type": "stream",
          "name": "stdout",
          "text": [
            "Counter({1: 125869, 2: 62396, 3: 31375, 4: 15514, 5: 7670, 6: 3846, 7: 1916, 8: 1001, 9: 446, 10: 263, 11: 132, 12: 56, 13: 27, 14: 16, 15: 7, 16: 4, 17: 2, 19: 1, 18: 1})\n"
          ]
        }
      ]
    },
    {
      "cell_type": "markdown",
      "source": [
        "\n",
        "2. Continuing from Part 1, what is the probability of observing at least one run of length 5 or more when n=100 and p=0.5?. Estimate this from 100,000 simulated experiments. Is this more, less or equally likely than finding runs of length 7 or more when p=0.7 ?\n",
        "\n",
        "Expected Result\n",
        "\n",
        "run_prob(expts=100000, n=100, k=5, p=0.5)\n",
        "\n",
        "0.80704\n",
        "\n",
        "run_prob(expts=100000, n=100, k=7, p=0.7)\n",
        "\n",
        "0.94881"
      ],
      "metadata": {
        "id": "iwJFEPErhp6B"
      }
    },
    {
      "cell_type": "code",
      "source": [
        "import numpy as np\n",
        "\n",
        "def run_prob(expts, n, k, p):\n",
        "    # เก็บจำนวน success runs ที่มีความยาว k หรือมากกว่า\n",
        "    count_runs_k = 0\n",
        "\n",
        "    for _ in range(expts):\n",
        "        # สร้างลำดับการทดลอง Bernoulli\n",
        "        sequence = np.random.choice([0, 1], size=n, p=[1-p, p])\n",
        "\n",
        "        # นับจำนวนของ success runs ที่มีความยาวต่างๆ\n",
        "        run_counts = count_runs(sequence)\n",
        "\n",
        "        # ตรวจสอบว่ามี success run ที่มีความยาว k หรือมากกว่าหรือไม่\n",
        "        if any(length >= k for length in run_counts):\n",
        "            count_runs_k += 1\n",
        "\n",
        "    # คำนวณความน่าจะเป็น\n",
        "    probability = count_runs_k / expts\n",
        "\n",
        "    return probability\n",
        "\n",
        "# ตัวอย่างการใช้งาน\n",
        "result1 = run_prob(expts=100000, n=100, k=5, p=0.5)\n",
        "print(\"Probability of observing at least one run of length 5 or more:\", result1)\n",
        "\n",
        "result2 = run_prob(expts=100000, n=100, k=7, p=0.7)\n",
        "print(\"Probability of observing at least one run of length 7 or more:\", result2)\n"
      ],
      "metadata": {
        "colab": {
          "base_uri": "https://localhost:8080/"
        },
        "id": "XNoOWH_dj5Nv",
        "outputId": "7f08ad78-6268-4bbf-e2d6-d46f15f806ab"
      },
      "execution_count": 3,
      "outputs": [
        {
          "output_type": "stream",
          "name": "stdout",
          "text": [
            "Probability of observing at least one run of length 5 or more: 0.80962\n",
            "Probability of observing at least one run of length 7 or more: 0.95004\n"
          ]
        }
      ]
    }
  ]
}